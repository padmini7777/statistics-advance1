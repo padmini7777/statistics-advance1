{
  "nbformat": 4,
  "nbformat_minor": 0,
  "metadata": {
    "colab": {
      "provenance": []
    },
    "kernelspec": {
      "name": "python3",
      "display_name": "Python 3"
    },
    "language_info": {
      "name": "python"
    }
  },
  "cells": [
    {
      "cell_type": "markdown",
      "source": [
        "##Statistics Advance 1\n"
      ],
      "metadata": {
        "id": "ohozwcZWBbNu"
      }
    },
    {
      "cell_type": "markdown",
      "source": [
        "###1. What a random variable in probability theory?"
      ],
      "metadata": {
        "id": "2rVVNXnsBiE1"
      }
    },
    {
      "cell_type": "markdown",
      "source": [
        "Ans- A random value is a numerical quantity that assigns a number to each possible outcomes of a random experiment. It translate outcomes into measurable values."
      ],
      "metadata": {
        "id": "shiPfshwBiA_"
      }
    },
    {
      "cell_type": "markdown",
      "source": [
        "###2. What are the types of random variable?"
      ],
      "metadata": {
        "id": "5FgTCuqlBh8N"
      }
    },
    {
      "cell_type": "markdown",
      "source": [
        "Ans- There are two types: discrete (countable outcomes, e.g., number of heads) and continuous (measurable outcomes, e.g., height, time)."
      ],
      "metadata": {
        "id": "spglELdeBh0t"
      }
    },
    {
      "cell_type": "markdown",
      "source": [
        "###3.What is the difference between discrete and continuous distributions?"
      ],
      "metadata": {
        "id": "IXyQ2JyCBhxW"
      }
    },
    {
      "cell_type": "markdown",
      "source": [
        "Ans- Discrete distributions describe probabilities for distinct, countable outcomes (e.g., binomial), while continuous distributions use probability density functions (PDFs) to describe probabilities over intervals (e.g., normal distribution)."
      ],
      "metadata": {
        "id": "L3vrvcVVBhtO"
      }
    },
    {
      "cell_type": "markdown",
      "source": [
        "###4. What are the probability distribution functions(PDF)?"
      ],
      "metadata": {
        "id": "Ndyvns9NBho1"
      }
    },
    {
      "cell_type": "markdown",
      "source": [
        "Ans- For discrete variables, the PDF gives the probability of a specific value. For continuous variables, the PDF represents the density, where the area under the curve over an interval gives the probability."
      ],
      "metadata": {
        "id": "oGJ262x_CgCl"
      }
    },
    {
      "cell_type": "markdown",
      "source": [
        "###5.How do comulative distribution functions (CDF) differ from probability distribution functions (PDF)?"
      ],
      "metadata": {
        "id": "YBPtKYUKCf_d"
      }
    },
    {
      "cell_type": "markdown",
      "source": [
        "Ans-CDF gives the probability that a random variable is ≤ a value (\n",
        "P\n",
        "(\n",
        "X\n",
        "≤\n",
        "x\n",
        ")\n",
        "P(X≤x)), while PDF provides probabilities for specific values (discrete) or density (continuous)."
      ],
      "metadata": {
        "id": "KWgITvMQCf7s"
      }
    },
    {
      "cell_type": "markdown",
      "source": [
        "###6.What is discrete uniform distribution?"
      ],
      "metadata": {
        "id": "Dp6BCRr8Cf3W"
      }
    },
    {
      "cell_type": "markdown",
      "source": [
        "Ans- A distribution where all outcomes are equally likely (e.g., rolling a fair die: each outcome has probability\n",
        "1\n",
        "/\n",
        "6\n",
        ")."
      ],
      "metadata": {
        "id": "5spYJC1nCfyv"
      }
    },
    {
      "cell_type": "markdown",
      "source": [
        "###7.What are the key properties of a Bernoulli distribution?"
      ],
      "metadata": {
        "id": "r3N8HZAKCfvW"
      }
    },
    {
      "cell_type": "markdown",
      "source": [
        "ANs-\n",
        "-  Models a single trial with two outcomes: success (1) with probability\n",
        "p\n",
        "p, failure (0) with probability\n",
        "1\n",
        "−\n",
        "p\n",
        "1−p.\n",
        "\n",
        "- Expectation:\n",
        "E\n",
        "(\n",
        "X\n",
        ")\n",
        "=\n",
        "p\n",
        "E(X)=p."
      ],
      "metadata": {
        "id": "mL2evp8GCfr1"
      }
    },
    {
      "cell_type": "markdown",
      "source": [
        "###8. What is the binomial distribution, and how is it used in probability?\n"
      ],
      "metadata": {
        "id": "osMUxGSqCfoG"
      }
    },
    {
      "cell_type": "markdown",
      "source": [
        "Ans-\n",
        "![image.png](data:image/png;base64,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)"
      ],
      "metadata": {
        "id": "pTTriCDvJ54x"
      }
    },
    {
      "cell_type": "markdown",
      "source": [
        "###9. What is the poisson distribution and where it is applied?"
      ],
      "metadata": {
        "id": "jqtQ72yjCffl"
      }
    },
    {
      "cell_type": "markdown",
      "source": [
        "Ans- Models the number of events in a fixed interval with a known average rate (\n",
        "λ\n",
        "λ). Formula:\n",
        "![image.png](data:image/png;base64,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)\n",
        "\n",
        "Applied in scenarios like call center arrivals or accident rates."
      ],
      "metadata": {
        "id": "0EPQz9WEI_WO"
      }
    },
    {
      "cell_type": "markdown",
      "source": [
        "###10. What is a continuous uniform distribution?"
      ],
      "metadata": {
        "id": "mQR3jk8HCfYu"
      }
    },
    {
      "cell_type": "markdown",
      "source": [
        "All intervals of the same length have equal probability. PDF is constant over [a, b]:\n",
        "![image.png](data:image/png;base64,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)"
      ],
      "metadata": {
        "id": "b3sadoCsCfb9"
      }
    },
    {
      "cell_type": "markdown",
      "source": [
        "###11. What are the characteristics of a normal distribution?"
      ],
      "metadata": {
        "id": "745SaBPFCfRe"
      }
    },
    {
      "cell_type": "markdown",
      "source": [
        "Ans-\n",
        "-  Bell-shaped, symmetric.\n",
        "\n",
        "- Mean = median = mode.\n",
        "\n",
        "- Defined by mean (\n",
        "μ\n",
        ") and variance (\n",
        "σ**2).\n",
        "\n",
        "- Follows the 68-95-99.7 rule."
      ],
      "metadata": {
        "id": "otsUYTFlCfNU"
      }
    },
    {
      "cell_type": "markdown",
      "source": [
        "###12. What is the standard normal distribution and why is it important?"
      ],
      "metadata": {
        "id": "f-3U5hnaCfJV"
      }
    },
    {
      "cell_type": "markdown",
      "source": [
        "Ans- A normal distribution with\n",
        "μ=0 and\n",
        "σ=1. It serves as a reference for Z-scores and simplifies probability calculations using standardized tables."
      ],
      "metadata": {
        "id": "GTx9qPv3CfFO"
      }
    },
    {
      "cell_type": "markdown",
      "source": [
        "###13. What is the Central Limit Theorem(CLT), and why is it critical in statistics?"
      ],
      "metadata": {
        "id": "Gxh1UotRBg5l"
      }
    },
    {
      "cell_type": "markdown",
      "source": [
        "Ans- CLT states that the sampling distribution of the sample mean approaches normality as the sample size increases, regardless of the population distribution. It underpins inferential statistics."
      ],
      "metadata": {
        "id": "HhFkLB2GEjFf"
      }
    },
    {
      "cell_type": "markdown",
      "source": [
        "###14. How does the Central Limit Theorem relate to the normal distribution ?"
      ],
      "metadata": {
        "id": "L031sNHdEjCN"
      }
    },
    {
      "cell_type": "markdown",
      "source": [
        "Ans- CLT ensures that even for non-normal populations, the distribution of sample means becomes approximately normal for large\n",
        "n\n",
        "n."
      ],
      "metadata": {
        "id": "DF7SOUINEi9d"
      }
    },
    {
      "cell_type": "markdown",
      "source": [
        "###15. What is the application of z statistics in hypothesis testing?"
      ],
      "metadata": {
        "id": "OwZyL4k5Ei6u"
      }
    },
    {
      "cell_type": "markdown",
      "source": [
        "Ans- Z-tests compare sample means to population means when\n",
        "σ\n",
        "σ is known. The Z-score determines how far the sample mean deviates from\n",
        "μ\n",
        "μ in standard error units."
      ],
      "metadata": {
        "id": "yL2otXj9Ei14"
      }
    },
    {
      "cell_type": "markdown",
      "source": [
        "###16. How do you calculate a z-score, and what does it represent?"
      ],
      "metadata": {
        "id": "A6S4cfWPEizP"
      }
    },
    {
      "cell_type": "markdown",
      "source": [
        "Ans- ![image.png](data:image/png;base64,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)"
      ],
      "metadata": {
        "id": "wQYLaN6jFf4l"
      }
    },
    {
      "cell_type": "markdown",
      "source": [
        "###17.What are the point estimates and interval estimates in statistics?"
      ],
      "metadata": {
        "id": "LNnQ6OCfEiw1"
      }
    },
    {
      "cell_type": "markdown",
      "source": [
        "Ans - Point estimate: A single value approximating a parameter (e.g.,\n",
        "x\n",
        "ˉ\n",
        "  for\n",
        "μ).\n",
        "\n",
        "Interval estimate: A range (e.g., confidence interval) likely containing the parameter."
      ],
      "metadata": {
        "id": "B4JnDKi2EiuV"
      }
    },
    {
      "cell_type": "markdown",
      "source": [
        "###18. What is the significance of confidence interval in statistical analysis?"
      ],
      "metadata": {
        "id": "QMK1mNuVEipn"
      }
    },
    {
      "cell_type": "markdown",
      "source": [
        "Ans- They provide a range of plausible values for a parameter at a specified confidence level (e.g., 95%), indicating estimate precision."
      ],
      "metadata": {
        "id": "unTOvK5cLb_4"
      }
    },
    {
      "cell_type": "markdown",
      "source": [
        "###19. What is the relationship between a z-score and a confidence interval?"
      ],
      "metadata": {
        "id": "f8_StQkoEinO"
      }
    },
    {
      "cell_type": "markdown",
      "source": [
        "Ans-![image.png](data:image/png;base64,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)"
      ],
      "metadata": {
        "id": "tknPozcJEii9"
      }
    },
    {
      "cell_type": "markdown",
      "source": [
        "###20. How are z-scores used to compare different distributions?"
      ],
      "metadata": {
        "id": "-IRHynAoEiek"
      }
    },
    {
      "cell_type": "markdown",
      "source": [
        "Ans- Z-scores standardize values from different distributions to a common scale (mean=0, SD=1), enabling direct comparison."
      ],
      "metadata": {
        "id": "pNL5ArOhEiUu"
      }
    },
    {
      "cell_type": "markdown",
      "source": [
        "###21. What are the assumptions for appling the central limit theorem?"
      ],
      "metadata": {
        "id": "WIpEbJEPEiZV"
      }
    },
    {
      "cell_type": "markdown",
      "source": [
        "Ans-\n",
        "- Random sampling.\n",
        "\n",
        "- Independence of observations.\n",
        "\n",
        "- Large sample size (\n",
        "n≥30) or population normality."
      ],
      "metadata": {
        "id": "BTGafZSnEicE"
      }
    },
    {
      "cell_type": "markdown",
      "source": [
        "###22. What is the concept of expected value in a probability distribution?"
      ],
      "metadata": {
        "id": "cQnkwcAREiId"
      }
    },
    {
      "cell_type": "markdown",
      "source": [
        "Ans- ![image.png](data:image/png;base64,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)"
      ],
      "metadata": {
        "id": "4rK0MUrLEiAO"
      }
    },
    {
      "cell_type": "markdown",
      "source": [
        "###23.How does a probability distribution relate to the expected outcome of a random variable?"
      ],
      "metadata": {
        "id": "klrmvFtfEh8l"
      }
    },
    {
      "cell_type": "markdown",
      "source": [
        "Ans- The expected value (\n",
        "E(X)) is the mean of the distribution, representing the average outcome over many trials. The distribution’s shape and probabilities determine this value."
      ],
      "metadata": {
        "id": "-5CXzOeXEh4v"
      }
    },
    {
      "cell_type": "markdown",
      "source": [
        "##THANK YOU:)"
      ],
      "metadata": {
        "id": "ugAqcdE8Eh0O"
      }
    }
  ]
}